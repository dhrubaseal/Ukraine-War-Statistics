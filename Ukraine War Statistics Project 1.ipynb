{
 "cells": [
  {
   "cell_type": "code",
   "execution_count": 41,
   "metadata": {
    "collapsed": true
   },
   "outputs": [],
   "source": [
    "import numpy as np\n",
    "import pandas as pd\n",
    "\n",
    "import matplotlib as mpl\n",
    "import matplotlib.pyplot as plt\n",
    "\n",
    "import seaborn as sns"
   ]
  },
  {
   "cell_type": "code",
   "execution_count": 42,
   "outputs": [
    {
     "name": "stdout",
     "output_type": "stream",
     "text": [
      "                                            Breakdown  Casualties Start Date  \\\n",
      "0                                           Civilians       33476 2023-02-24   \n",
      "1                                           Civilians        6884 2023-02-24   \n",
      "2                                           Civilians       40000 2023-02-24   \n",
      "3                                           Civilians       20000 2023-02-24   \n",
      "4           Ukrainian forces_x000D_\\n(ZSU, NGU, SBGS)       10000 2023-02-24   \n",
      "5           Ukrainian forces_x000D_\\n(ZSU, NGU, SBGS)       61207 2023-02-24   \n",
      "6           Ukrainian forces_x000D_\\n(ZSU, NGU, SBGS)      100000 2023-02-24   \n",
      "7                              Ukrainian forces (ZSU)       13000 2023-02-24   \n",
      "8   Russian and allied forces_x000D_\\n(VSRF, Rosgv...      100000 2023-02-24   \n",
      "9   Russian and allied forces_x000D_\\n(VSRF, Rosgv...       60000 2023-02-24   \n",
      "10  Russian and allied forces_x000D_\\n(VSRF, Rosgv...      100000 2023-02-24   \n",
      "11  Russian and allied forces_x000D_\\n(VSRF, Rosgv...      105960 2023-02-24   \n",
      "12  Russian forces_x000D_\\n(VSRF, Rosgvardiya, FSB...       22000 2022-02-24   \n",
      "13                Russian forces_x000D_\\n(PMC Wagner)        4100 2022-02-24   \n",
      "14                Russian forces_x000D_\\n(PMC Wagner)        1000 2023-02-24   \n",
      "15                Russian forces_x000D_\\n(PMC Wagner)         315 2023-02-24   \n",
      "16                              Russian forces (VSRF)        5937 2023-02-24   \n",
      "17                                  Donetsk PR forces        4163 2023-02-26   \n",
      "18                                  Luhansk PR forces        1000 2023-02-24   \n",
      "19                                          Civilians        3404 2014-04-06   \n",
      "20        ZSU, NGU, SBGS_x000D_\\nand volunteer forces        4641 2014-04-06   \n",
      "21                                 DPR and LPR forces        6517 2014-04-06   \n",
      "22                               Russian Armed Forces         500 2014-04-06   \n",
      "\n",
      "     End Date                        Source  \n",
      "0  2022-12-31          Ukrainian government  \n",
      "1  2022-12-25                United Nations  \n",
      "2  2022-11-09              US CJCS estimate  \n",
      "3  2022-11-30                   EC estimate  \n",
      "4  2022-06-03          Ukrainian government  \n",
      "5  2022-09-21            Russian government  \n",
      "6  2022-11-09                       US CJCS  \n",
      "7  2022-12-01          Ukrainian government  \n",
      "8  2022-11-09              US CJCS estimate  \n",
      "9  2022-11-15               DGEUMS estimate  \n",
      "10 2022-12-13                   UK estimate  \n",
      "11 2022-12-31          Ukrainian government  \n",
      "12 2023-01-06  BBC News Russian & Mediazona  \n",
      "13 2023-01-06                   US estimate  \n",
      "14 2022-11-04            Ukrainian CCHT NGO  \n",
      "15 2022-12-29  BBC News Russian & Mediazona  \n",
      "16 2022-09-21            Russian government  \n",
      "17 2022-12-22                    Donetsk PR  \n",
      "18 2022-11-10  BBC News Russian & Mediazona  \n",
      "19 2021-12-31                United Nations  \n",
      "20 2022-02-23    Museum of Military History  \n",
      "21 2022-02-23     United Nations, DPR & LPR  \n",
      "22 2015-03-10           US State Department  \n"
     ]
    }
   ],
   "source": [
    "dataframe1 = pd.read_excel(\"Ukraine War Statistics.xlsx\", sheet_name=\"Total Casualties\")\n",
    "print(dataframe1)"
   ],
   "metadata": {
    "collapsed": false
   }
  },
  {
   "cell_type": "code",
   "execution_count": 43,
   "outputs": [
    {
     "name": "stdout",
     "output_type": "stream",
     "text": [
      "   Dates of prisoner exchanges  Russian Prisoner  Ukrainian Prisoners\n",
      "0                   2022-03-01                 1                    5\n",
      "1                   2022-03-16                 9                    1\n",
      "2                   2022-03-24                21                   29\n",
      "3                   2022-04-01                 0                   86\n",
      "4                   2022-04-09                18                   26\n",
      "5                   2022-04-14                 0                   30\n",
      "6                   2022-04-15                 4                    5\n",
      "7                   2022-04-19                 0                   76\n",
      "8                   2022-04-21                 0                   19\n",
      "9                   2022-04-28                 0                   45\n",
      "10                  2022-04-30                 0                   14\n",
      "11                  2022-05-06                11                   41\n",
      "12                  2022-06-10                 4                    5\n",
      "13                  2022-06-18                 5                    5\n",
      "14                  2022-06-28                15                   17\n",
      "15                  2022-06-29               144                  144\n",
      "16                  2022-09-02                 0                   14\n",
      "17                  2022-09-21                56                  215\n",
      "18                  2022-09-30                 0                    6\n",
      "19                  2022-10-11                 0                   32\n",
      "20                  2022-10-13                10                   20\n",
      "21                  2022-10-17               110                  108\n",
      "22                  2022-10-26                 0                   10\n",
      "23                  2022-10-29                50                   52\n",
      "24                  2022-11-03               107                  107\n",
      "25                  2022-11-10                45                   45\n",
      "26                  2022-11-23                35                   36\n",
      "27                  2022-11-24                50                   50\n",
      "28                  2022-11-26                 9                   12\n",
      "29                  2022-12-01                50                   50\n",
      "30                  2022-12-06                60                   60\n",
      "31                  2022-12-14                 0                   65\n",
      "32                  2022-12-31                82                  140\n"
     ]
    }
   ],
   "source": [
    "dataframe2 = pd.read_excel(\"Ukraine War Statistics.xlsx\", sheet_name=\"Dates of Prisoner Exchanges\")\n",
    "print(dataframe2)"
   ],
   "metadata": {
    "collapsed": false
   }
  },
  {
   "cell_type": "code",
   "execution_count": 44,
   "outputs": [
    {
     "name": "stdout",
     "output_type": "stream",
     "text": [
      "           Country  Deaths\n",
      "0           Greece      12\n",
      "1       Azerbaijan       8\n",
      "2          Belarus       2\n",
      "3    United States       2\n",
      "4           Poland       2\n",
      "5      Afghanistan       1\n",
      "6          Algeria       1\n",
      "7          Armenia       1\n",
      "8       Bangladesh       1\n",
      "9   Czech Republic       1\n",
      "10           Egypt       1\n",
      "11          France       1\n",
      "12           India       1\n",
      "13            Iraq       1\n",
      "14         Ireland       1\n",
      "15          Israel       1\n",
      "16       Lithuania       1\n",
      "17         Moldova       1\n",
      "18          Russia       1\n",
      "19  United Kingdom       1\n"
     ]
    }
   ],
   "source": [
    "dataframe3 = pd.read_excel(\"Ukraine War Statistics.xlsx\", sheet_name=\"Foreign Civilians Deaths\")\n",
    "print(dataframe3)"
   ],
   "metadata": {
    "collapsed": false
   }
  },
  {
   "cell_type": "code",
   "execution_count": 45,
   "outputs": [
    {
     "name": "stdout",
     "output_type": "stream",
     "text": [
      "           Region  Fatalities Start Date   End Date Source\n",
      "0  Donetsk region        2420 2014-04-06 2015-02-15   OCHA\n",
      "1  Luhansk region        1185 2014-05-01 2015-02-15   OCHA\n",
      "2  Donetsk region        5042 2014-04-06 2022-02-18    DPR\n",
      "3  Luhansk region        2000 2014-04-06 2022-03-25    LPR\n"
     ]
    }
   ],
   "source": [
    "dataframe4 = pd.read_excel(\"Ukraine War Statistics.xlsx\", sheet_name=\"Deaths by Regions\")\n",
    "print(dataframe4)"
   ],
   "metadata": {
    "collapsed": false
   }
  },
  {
   "cell_type": "code",
   "execution_count": 46,
   "outputs": [
    {
     "name": "stdout",
     "output_type": "stream",
     "text": [
      "                          Header         Country  Deaths  \\\n",
      "0   Ukrainian Armed forces (145)       Argentina       1   \n",
      "1   Ukrainian Armed forces (145)       Australia       4   \n",
      "2   Ukrainian Armed forces (145)         Austria       1   \n",
      "3   Ukrainian Armed forces (145)      Azerbaijan      25   \n",
      "4   Ukrainian Armed forces (145)         Belarus      18   \n",
      "5   Ukrainian Armed forces (145)         Belgium       1   \n",
      "6   Ukrainian Armed forces (145)          Brazil       3   \n",
      "7   Ukrainian Armed forces (145)          Canada       2   \n",
      "8   Ukrainian Armed forces (145)        Colombia       4   \n",
      "9   Ukrainian Armed forces (145)         Croatia       1   \n",
      "10  Ukrainian Armed forces (145)  Czech Republic       1   \n",
      "11  Ukrainian Armed forces (145)         Denmark       1   \n",
      "12  Ukrainian Armed forces (145)          France       3   \n",
      "13  Ukrainian Armed forces (145)         Georgia      36   \n",
      "14  Ukrainian Armed forces (145)         Germany       1   \n",
      "15  Ukrainian Armed forces (145)         Hungary       1   \n",
      "16  Ukrainian Armed forces (145)         Ireland       1   \n",
      "17  Ukrainian Armed forces (145)          Israel       2   \n",
      "18  Ukrainian Armed forces (145)           Italy       1   \n",
      "19  Ukrainian Armed forces (145)           Japan       1   \n",
      "20  Ukrainian Armed forces (145)     Netherlands       1   \n",
      "21  Ukrainian Armed forces (145)     New Zealand       1   \n",
      "22  Ukrainian Armed forces (145)          Poland       6   \n",
      "23  Ukrainian Armed forces (145)          Russia       5   \n",
      "24  Ukrainian Armed forces (145)           Spain       1   \n",
      "25  Ukrainian Armed forces (145)     South Korea       1   \n",
      "26  Ukrainian Armed forces (145)          Sweden       4   \n",
      "27  Ukrainian Armed forces (145)          Taiwan       1   \n",
      "28  Ukrainian Armed forces (145)  United Kingdom       5   \n",
      "29  Ukrainian Armed forces (145)   United States      11   \n",
      "30  Ukrainian Armed forces (145)      Uzbekistan       1   \n",
      "31     Russian Armed Forces (46)         Belarus       1   \n",
      "32     Russian Armed Forces (46)      Kyrgyzstan      13   \n",
      "33     Russian Armed Forces (46)         Moldova       1   \n",
      "34     Russian Armed Forces (46)   South Ossetia      12   \n",
      "35     Russian Armed Forces (46)           Syria       9   \n",
      "36     Russian Armed Forces (46)      Tajikistan       9   \n",
      "37     Russian Armed Forces (46)          Zambia       1   \n",
      "38         Donetsk PR forces (6)        Abkhazia       1   \n",
      "39         Donetsk PR forces (6)           Italy       1   \n",
      "40         Donetsk PR forces (6)   South Ossetia       4   \n",
      "41         Luhansk PR forces (3)           Italy       1   \n",
      "42         Luhansk PR forces (3)          Serbia       1   \n",
      "43         Luhansk PR forces (3)        Slovakia       1   \n",
      "\n",
      "                                           Allegiance  \n",
      "0                            Ukrainian Foreign Legion  \n",
      "1     Ukrainian Foreign Legion_x000D_\\nSich Battalion  \n",
      "2                              Ukrainian Armed Forces  \n",
      "3     Armed Forces of Ukraine_x000D_\\nGeorgian Legion  \n",
      "4   Kastuś Kalinoŭski Battalion_x000D_\\n24th Mecha...  \n",
      "5                            Ukrainian Foreign Legion  \n",
      "6                            Ukrainian Foreign Legion  \n",
      "7                            Ukrainian Foreign Legion  \n",
      "8                            Ukrainian Foreign Legion  \n",
      "9                             Armed Forces of Ukraine  \n",
      "10                           Ukrainian Foreign Legion  \n",
      "11                           Ukrainian Foreign Legion  \n",
      "12    Ukrainian Foreign Legion_x000D_\\nSich Battalion  \n",
      "13  Georgian Legion_x000D_\\nSich Battalion_x000D_\\...  \n",
      "14                           Ukrainian Foreign Legion  \n",
      "15                           Ukrainian Foreign Legion  \n",
      "16                           Ukrainian Foreign Legion  \n",
      "17                             Ukrainian Armed Forces  \n",
      "18                           Ukrainian Foreign Legion  \n",
      "19                           Ukrainian Foreign Legion  \n",
      "20                           Ukrainian Foreign Legion  \n",
      "21                           Ukrainian Foreign Legion  \n",
      "22                           Ukrainian Foreign Legion  \n",
      "23  Ukrainian Armed Forces_x000D_\\nUkrainian Forei...  \n",
      "24                           Ukrainian Foreign Legion  \n",
      "25                           Ukrainian Foreign Legion  \n",
      "26                           Ukrainian Foreign Legion  \n",
      "27                                     Sich Battalion  \n",
      "28                           Ukrainian Foreign Legion  \n",
      "29                           Ukrainian Foreign Legion  \n",
      "30                           Ukrainian Foreign Legion  \n",
      "31                           Private military company  \n",
      "32                                       Russian Army  \n",
      "33                                       Russian Army  \n",
      "34                                       Russian Army  \n",
      "35                           Private military company  \n",
      "36                                       Russian Army  \n",
      "37                           Private military company  \n",
      "38                                 Pyatnashka Brigade  \n",
      "39                                 Pyatnashka Brigade  \n",
      "40                                 Pyatnashka Brigade  \n",
      "41                                    Prizrak Brigade  \n",
      "42                                    Prizrak Brigade  \n",
      "43                                    Prizrak Brigade  \n"
     ]
    }
   ],
   "source": [
    "dataframe5 = pd.read_excel(\"Ukraine War Statistics.xlsx\", sheet_name=\"Deaths of Foreign Fighters\")\n",
    "print(dataframe5)"
   ],
   "metadata": {
    "collapsed": false
   }
  },
  {
   "cell_type": "code",
   "execution_count": 47,
   "outputs": [
    {
     "name": "stdout",
     "output_type": "stream",
     "text": [
      "                                                 Area  Fatalities Start Date  \\\n",
      "0                                     Cherkasy Oblast           2 2023-02-24   \n",
      "1                                    Chernihiv Oblast         700 2023-02-24   \n",
      "2                               Dnipropetrovsk Oblast          73 2023-04-24   \n",
      "3   Donetsk Oblast_x000D_\\n(excluding Mariupol_x00...        1285 2023-02-24   \n",
      "4                                      Kharkiv Oblast        1600 2023-02-24   \n",
      "5                                      Kherson Oblast         497 2022-02-24   \n",
      "6                                   Kirovohrad Oblast           7 2023-02-24   \n",
      "7                                         Kyiv Oblast        1620 2023-02-24   \n",
      "8                                      Luhansk Oblast        1986 2023-02-24   \n",
      "9                                         Lviv Oblast           7 2022-04-18   \n",
      "10                                           Mariupol       25000 2023-02-24   \n",
      "11                                    Mykolaiv Oblast         403 2023-02-24   \n",
      "12                                       Odesa Oblast          33 2023-02-24   \n",
      "13                                     Poltava Oblast          22 2022-06-27   \n",
      "14                                       Rivne Oblast          25 2023-02-24   \n",
      "15                                        Sumy Oblast         106 2023-02-24   \n",
      "16                                   Vinnytsia Oblast          23 2022-07-14   \n",
      "17                                       Volyn Oblast           5 2023-02-24   \n",
      "18                                Zaporizhzhia Oblast         114 2023-02-24   \n",
      "19                                    Zhytomyr Oblast          14 2023-02-24   \n",
      "20                                     Western Russia          15 2023-02-24   \n",
      "21                          Donetsk People's Republic        1083 2023-02-26   \n",
      "22                          Luhansk People's Republic         169 2023-02-17   \n",
      "\n",
      "     End Date                Source  \n",
      "0  2022-06-26  Ukrainian government  \n",
      "1  2022-03-29  Ukrainian government  \n",
      "2  2022-12-16  Ukrainian government  \n",
      "3  2022-12-31  Ukrainian government  \n",
      "4  2022-12-07  Ukrainian government  \n",
      "5  2023-01-05  Ukrainian government  \n",
      "6  2022-07-28  Ukrainian government  \n",
      "7  2022-12-31  Ukrainian government  \n",
      "8  2022-10-01  Ukrainian government  \n",
      "9         NaT  Ukrainian government  \n",
      "10 2022-05-25  Ukrainian government  \n",
      "11 2022-08-02  Ukrainian government  \n",
      "12 2022-09-23  Ukrainian government  \n",
      "13        NaT  Ukrainian government  \n",
      "14 2022-06-23  Ukrainian government  \n",
      "15 2022-10-18  Ukrainian government  \n",
      "16        NaT  Ukrainian government  \n",
      "17 2022-07-25  Ukrainian government  \n",
      "18 2022-12-24  Ukrainian government  \n",
      "19 2022-03-10  Ukrainian government  \n",
      "20 2022-11-15    Russian Government  \n",
      "21 2022-12-28            Donetsk PR  \n",
      "22 2022-12-25            Luhansk PR  \n"
     ]
    }
   ],
   "source": [
    "dataframe6 = pd.read_excel(\"Ukraine War Statistics.xlsx\", sheet_name=\"Civilian Deaths by Area\")\n",
    "print(dataframe6)"
   ],
   "metadata": {
    "collapsed": false
   }
  },
  {
   "cell_type": "code",
   "execution_count": 48,
   "outputs": [
    {
     "name": "stdout",
     "output_type": "stream",
     "text": [
      "                        Header         Country  Captured  \\\n",
      "0  Ukrainian Armed forces (13)         Belarus         2   \n",
      "1  Ukrainian Armed forces (13)         Croatia         1   \n",
      "2  Ukrainian Armed forces (13)          Israel         1   \n",
      "3  Ukrainian Armed forces (13)         Morocco         1   \n",
      "4  Ukrainian Armed forces (13)          Sweden         1   \n",
      "5  Ukrainian Armed forces (13)  United Kingdom         4   \n",
      "6  Ukrainian Armed forces (13)   United States         3   \n",
      "\n",
      "                                          Allegiance    Status  \n",
      "0                        Kastuś Kalinoŭski Battalion  Prisoner  \n",
      "1                           Ukrainian Foreign Legion  Released  \n",
      "2                           Ukrainian Foreign Legion  Prisoner  \n",
      "3                           Ukrainian Foreign Legion  Released  \n",
      "4                           Ukrainian Foreign Legion  Released  \n",
      "5  Armed Forces of Ukraine_x000D_\\nUkrainian Fore...  Released  \n",
      "6  Armed Forces of Ukraine_x000D_\\nUkrainian Fore...  Released  \n"
     ]
    }
   ],
   "source": [
    "dataframe7 = pd.read_excel(\"Ukraine War Statistics.xlsx\", sheet_name=\"Captured Foreign Fighters\")\n",
    "print(dataframe7)"
   ],
   "metadata": {
    "collapsed": false
   }
  }
 ],
 "metadata": {
  "kernelspec": {
   "display_name": "Python 3",
   "language": "python",
   "name": "python3"
  },
  "language_info": {
   "codemirror_mode": {
    "name": "ipython",
    "version": 2
   },
   "file_extension": ".py",
   "mimetype": "text/x-python",
   "name": "python",
   "nbconvert_exporter": "python",
   "pygments_lexer": "ipython2",
   "version": "2.7.6"
  }
 },
 "nbformat": 4,
 "nbformat_minor": 0
}
